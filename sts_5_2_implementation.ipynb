{
  "nbformat": 4,
  "nbformat_minor": 0,
  "metadata": {
    "colab": {
      "provenance": [],
      "mount_file_id": "11x2CkALBN11B2VVn4dvkE9rKzTqVST1x",
      "authorship_tag": "ABX9TyN8DAfmnfGgXOzJpGZBP2aZ",
      "include_colab_link": true
    },
    "kernelspec": {
      "name": "python3",
      "display_name": "Python 3"
    },
    "language_info": {
      "name": "python"
    }
  },
  "cells": [
    {
      "cell_type": "markdown",
      "metadata": {
        "id": "view-in-github",
        "colab_type": "text"
      },
      "source": [
        "<a href=\"https://colab.research.google.com/github/Iykechuks11/STS-Protocol-Implementation-with-RSA-Signatures/blob/master/sts_5_2_implementation.ipynb\" target=\"_parent\"><img src=\"https://colab.research.google.com/assets/colab-badge.svg\" alt=\"Open In Colab\"/></a>"
      ]
    },
    {
      "cell_type": "markdown",
      "source": [
        "### STS-IMPLEMENTATION (5.2)\n",
        "\n",
        "Tools I used to achieve this implementation.\n",
        "- DHKE\n",
        "- RSA DSA\n",
        "- AES\n",
        "- X. 509 certificate"
      ],
      "metadata": {
        "id": "_AXKOsPBNlRK"
      }
    },
    {
      "cell_type": "code",
      "source": [
        "from cryptography.hazmat.primitives import hashes, serialization\n",
        "from cryptography.hazmat.primitives.asymmetric import rsa, padding\n",
        "from cryptography.hazmat.primitives.serialization import Encoding, PrivateFormat, NoEncryption, PublicFormat\n",
        "from cryptography.hazmat.primitives import hashes\n",
        "from cryptography.hazmat.primitives.asymmetric import rsa, padding\n",
        "from cryptography.hazmat.primitives.ciphers import Cipher, algorithms, modes\n",
        "import os\n",
        "from cryptography.hazmat.primitives.asymmetric import dh\n",
        "from cryptography.hazmat.primitives.kdf.hkdf import HKDF\n",
        "from cryptography.hazmat.primitives.asymmetric.ed25519 import Ed25519PrivateKey\n",
        "from cryptography import x509\n",
        "from cryptography.x509.oid import NameOID\n",
        "import datetime\n",
        "from cryptography.hazmat.backends import default_backend # why?\n",
        "# Pad the signed content to make its length a multiple of the block size\n",
        "from cryptography.hazmat.primitives.padding import PKCS7"
      ],
      "metadata": {
        "id": "JRyxWxh72c72"
      },
      "execution_count": null,
      "outputs": []
    },
    {
      "cell_type": "code",
      "source": [
        "class AES:\n",
        "    def __init__(self, shared_key):\n",
        "        if len(shared_key) not in {16, 24, 32}:\n",
        "            raise ValueError(\"Key must be 128, 192, or 256 bits.\")\n",
        "        self.shared_key = shared_key\n",
        "\n",
        "    def aes_encrypt(self, content):\n",
        "        # Generate a random IV (Initialization Vector)\n",
        "        iv = os.urandom(16)\n",
        "\n",
        "        # Create the AES cipher in CBC mode\n",
        "        cipher = Cipher(algorithms.AES(self.shared_key), modes.CBC(iv), backend=default_backend())\n",
        "        encryptor = cipher.encryptor()\n",
        "\n",
        "        # Pad the content\n",
        "        padder = PKCS7(algorithms.AES.block_size).padder()\n",
        "        padded_data = padder.update(content) + padder.finalize()\n",
        "\n",
        "        # Encrypt the padded data\n",
        "        encrypted_content = encryptor.update(padded_data) + encryptor.finalize()\n",
        "\n",
        "        return iv + encrypted_content  # Prepend IV to the ciphertext\n",
        "\n",
        "    def aes_decrypt(self, encrypted_data):\n",
        "        # Extract the IV from the beginning of the ciphertext\n",
        "        iv = encrypted_data[:16]\n",
        "        ciphertext = encrypted_data[16:]\n",
        "\n",
        "        # Create the AES cipher in CBC mode\n",
        "        cipher = Cipher(algorithms.AES(self.shared_key), modes.CBC(iv), backend=default_backend())\n",
        "        decryptor = cipher.decryptor()\n",
        "\n",
        "        # Decrypt the ciphertext\n",
        "        padded_content = decryptor.update(ciphertext) + decryptor.finalize()\n",
        "\n",
        "        # Remove padding\n",
        "        unpadder = PKCS7(algorithms.AES.block_size).unpadder()\n",
        "        content = unpadder.update(padded_content) + unpadder.finalize()\n",
        "\n",
        "        return content"
      ],
      "metadata": {
        "id": "_BTtVFOfw02O"
      },
      "execution_count": null,
      "outputs": []
    },
    {
      "cell_type": "code",
      "source": [
        "def derived_key(shared_key):\n",
        "  derived_key = HKDF(\n",
        "    algorithm=hashes.SHA256(),\n",
        "    length=32,\n",
        "    salt=None,\n",
        "    info=b'handshake data',\n",
        "    ).derive(shared_key)\n",
        "\n",
        "  return derived_key\n",
        "\n",
        "# Converts public key objects to bytes\n",
        "def public_key_to_bytes(public_key):\n",
        "  pub_key = public_key.public_bytes(\n",
        "      encoding=serialization.Encoding.DER,\n",
        "      format=serialization.PublicFormat.SubjectPublicKeyInfo\n",
        "  )\n",
        "\n",
        "  return pub_key"
      ],
      "metadata": {
        "id": "byU6Be7wKz7O"
      },
      "execution_count": null,
      "outputs": []
    },
    {
      "cell_type": "code",
      "source": [
        "# Generates RSA key-pairs (Long-term key)\n",
        "\n",
        "def generate_keys(name):\n",
        "  private_key = rsa.generate_private_key(\n",
        "  public_exponent=65537,\n",
        "  key_size=2048,\n",
        "  )\n",
        "\n",
        "  with open(f\"{name.lower()}_private_key.pem\", \"wb\") as f:\n",
        "    f.write(private_key.private_bytes(\n",
        "        encoding=serialization.Encoding.PEM,\n",
        "        format=serialization.PrivateFormat.TraditionalOpenSSL,\n",
        "        encryption_algorithm=serialization.BestAvailableEncryption(b\"passphrase\"),\n",
        "    ))\n",
        "\n",
        "  public_key = private_key.public_key()\n",
        "\n",
        "  return public_key\n"
      ],
      "metadata": {
        "id": "bwVUy-Td4T79"
      },
      "execution_count": null,
      "outputs": []
    },
    {
      "cell_type": "code",
      "source": [
        "# RSA DSA (Sign, Verify)\n",
        "def sign_public_keys(name, message):\n",
        "\n",
        "  with open(f\"/content/{name}_private_key.pem\", \"rb\") as key_file:\n",
        "    private_key = serialization.load_pem_private_key(\n",
        "        key_file.read(),\n",
        "        password=b\"passphrase\",\n",
        "    )\n",
        "\n",
        "  signature = private_key.sign(\n",
        "    message,\n",
        "    padding.PSS(\n",
        "        mgf=padding.MGF1(hashes.SHA256()),\n",
        "        salt_length=padding.PSS.MAX_LENGTH\n",
        "    ),\n",
        "    hashes.SHA256()\n",
        "    )\n",
        "\n",
        "  return signature\n",
        "\n",
        "# Verification algorithm\n",
        "def verify(public_key, signature, message):\n",
        "  public_key.verify(\n",
        "      signature,\n",
        "      message,\n",
        "      padding.PSS(\n",
        "          mgf=padding.MGF1(hashes.SHA256()),\n",
        "          salt_length=padding.PSS.MAX_LENGTH\n",
        "      ),\n",
        "      hashes.SHA256()\n",
        "  )"
      ],
      "metadata": {
        "id": "diFhVpF06dHa"
      },
      "execution_count": null,
      "outputs": []
    },
    {
      "cell_type": "code",
      "source": [
        "# Self-signed certificates\n",
        "def certificate(name, public_key):\n",
        "\n",
        "  with open(f\"/content/{name}_private_key.pem\", \"rb\") as key_file:\n",
        "    private_key = serialization.load_pem_private_key(\n",
        "      key_file.read(),\n",
        "      password=b\"passphrase\",\n",
        "\n",
        "      )\n",
        "\n",
        "  subject = issuer = x509.Name([\n",
        "    x509.NameAttribute(NameOID.COUNTRY_NAME, \"MK\")])\n",
        "\n",
        "  cert = x509.CertificateBuilder().subject_name(\n",
        "    subject\n",
        "    ).issuer_name(\n",
        "        issuer\n",
        "    ).serial_number(\n",
        "        x509.random_serial_number()\n",
        "    ).not_valid_before(\n",
        "        datetime.datetime.now(datetime.timezone.utc)\n",
        "    ).not_valid_after(\n",
        "        datetime.datetime.now(datetime.timezone.utc) + datetime.timedelta(days=10)\n",
        "    ).public_key(public_key).sign(private_key, hashes.SHA256())\n",
        "\n",
        "  with open(f\"{name.lower()}_certificate.pem\", \"wb\") as f:\n",
        "    f.write(cert.public_bytes(serialization.Encoding.PEM))\n"
      ],
      "metadata": {
        "id": "_gYmKrE9PskA"
      },
      "execution_count": null,
      "outputs": []
    },
    {
      "cell_type": "markdown",
      "source": [
        "## Protocol Starts"
      ],
      "metadata": {
        "id": "eLNff89YE4Ff"
      }
    },
    {
      "cell_type": "markdown",
      "source": [
        "## Alice sends public (Ephemeral) keys using DH approach."
      ],
      "metadata": {
        "id": "_XbKCbUoX9Yg"
      }
    },
    {
      "cell_type": "code",
      "source": [
        "# Generate some parameters. These can be reused.\n",
        "parameters = dh.generate_parameters(generator=2, key_size=1024)"
      ],
      "metadata": {
        "id": "0cMUnKAxFBIL"
      },
      "execution_count": null,
      "outputs": []
    },
    {
      "cell_type": "code",
      "source": [
        "# Alice sends (a, p, a^x)\n",
        "def alice_generates(parameters):\n",
        "  alice_private_key = parameters.generate_private_key()\n",
        "  alice_public_key = alice_private_key.public_key()\n",
        "  alice_public_key_bytes = public_key_to_bytes(alice_public_key)\n",
        "\n",
        "  return alice_public_key_bytes, alice_public_key, alice_private_key\n",
        "\n",
        "\n",
        "[alice_public_key_bytes, alice_public_key, alice_private_key] = alice_generates(parameters)"
      ],
      "metadata": {
        "id": "TZ2hRUHk0fd8"
      },
      "execution_count": null,
      "outputs": []
    },
    {
      "cell_type": "code",
      "source": [
        "alice_public_key\n",
        "# alice_private_key"
      ],
      "metadata": {
        "colab": {
          "base_uri": "https://localhost:8080/"
        },
        "id": "UlxDOKMT-hIW",
        "outputId": "a8fa85c8-eeda-4d7f-96ea-99f499ceb7da"
      },
      "execution_count": null,
      "outputs": [
        {
          "output_type": "execute_result",
          "data": {
            "text/plain": [
              "<cryptography.hazmat.bindings._rust.openssl.dh.DHPrivateKey at 0x799443e15bf0>"
            ]
          },
          "metadata": {},
          "execution_count": 218
        }
      ]
    },
    {
      "cell_type": "markdown",
      "source": [
        "## Bob receives public parameters, computes shared key, signs public parameter keys, encrypts, generates self-signed certificate and sends ----->"
      ],
      "metadata": {
        "id": "epGu7sTTYG8s"
      }
    },
    {
      "cell_type": "code",
      "source": [
        "# Bob computes k_yx, sends (a^y, cert_b, E_k_yx(sign(a^y, a^x)))\n",
        "\n",
        "def bob_generates(alice_public_key, parameters, name='bob'):\n",
        "  bob_private_key = parameters.generate_private_key()\n",
        "  bob_public_key = bob_private_key.public_key()\n",
        "\n",
        "  # Bob derives shared key\n",
        "  bob_shared_key = bob_private_key.exchange(alice_public_key)\n",
        "  bob_derived_key = derived_key(bob_shared_key)\n",
        "  print(bob_derived_key)\n",
        "\n",
        "  # Bob generates long-term keys\n",
        "  bob_pub = generate_keys(name)\n",
        "  print(f'Bob_pub: {bob_pub}')\n",
        "\n",
        "  # Bob signs both public keys\n",
        "  bob_message = public_key_to_bytes(bob_public_key) + public_key_to_bytes(alice_public_key)\n",
        "  print(f'Bob_message: {bob_message}')\n",
        "\n",
        "  signature = sign_public_keys(name, bob_message)\n",
        "  print(f'Bob signs concatenated key: {signature}')\n",
        "\n",
        "  # Encrypt signed\n",
        "  aes = AES(bob_derived_key)\n",
        "  encrypted_signed_public_keys = aes.aes_encrypt(signature)\n",
        "  print(f'Bob encrypted concatenated keys: {encrypted_signed_public_keys}')\n",
        "\n",
        "  # Generate self-signed certificate\n",
        "  certificate(name, bob_pub)\n",
        "\n",
        "  data = {\n",
        "      \"bob_public_key\": bob_public_key,\n",
        "      \"encrypted_parameters\": encrypted_signed_public_keys,\n",
        "      \"bob_public_long_key\": bob_pub,\n",
        "      \"bob_message\": bob_message,\n",
        "      \"bob_derived_key\": bob_derived_key\n",
        "  }\n",
        "\n",
        "  return data"
      ],
      "metadata": {
        "id": "Yhcx_oHd0vAT"
      },
      "execution_count": null,
      "outputs": []
    },
    {
      "cell_type": "code",
      "source": [
        "bob_sends = bob_generates(alice_public_key, parameters)\n",
        "\n",
        "bob_public_key = bob_sends[\"bob_public_key\"]\n",
        "encrypted_parameters = bob_sends[\"encrypted_parameters\"]\n",
        "bob_public_long_key = bob_sends[\"bob_public_long_key\"]\n",
        "bob_message = bob_sends[\"bob_message\"]\n",
        "bob_derived_key = bob_sends[\"bob_derived_key\"]\n"
      ],
      "metadata": {
        "colab": {
          "base_uri": "https://localhost:8080/"
        },
        "id": "dVYW9EkKrF52",
        "outputId": "cad0000a-3f89-4105-d34e-d87ff87e76ad"
      },
      "execution_count": null,
      "outputs": [
        {
          "output_type": "stream",
          "name": "stdout",
          "text": [
            "b'~\\xb5S\\x19\\xe2P H%\\x80\\x1e;8\\xb1,^\\x91]\\xd4\\x164\\xe5Ix\\x9f\\xd0\\xfc\\x8b/\\x95L\\x12'\n",
            "Bob_pub: <cryptography.hazmat.bindings._rust.openssl.rsa.RSAPublicKey object at 0x7f861f71a350>\n",
            "Bob_message: b'0\\x82\\x01\\x1f0\\x81\\x95\\x06\\t*\\x86H\\x86\\xf7\\r\\x01\\x03\\x010\\x81\\x87\\x02\\x81\\x81\\x00\\xaeU_\\xdaK\\xd3G\\xc4\\xfe/ \\x97\\xb7U>|\\xb0\\x18\\x033\\xa6\\xed\\x11\\xe8nk\\x12h\\xa61~s\\xf7\\xfb\\x03\\xe6o_\\x11\\xa5\\xb3\\x96\\x98\\xc5sUg\\xa8Z\\x89\\x84E\\xd0\\xce]\\xf4\\xaf\\x0e\\xa3\\xcc\\xe5\\x897\\x87J\\xcd\\xbb\\x1f*:fH+Z\\x1a.\\x1c\\xc3\\x97\\xa6\\t\\xc3\\xa7]\\xad\\x1eP\\r\\xb7R\\xa2E\\xaa\\xa2\\xa3oq\\x91_\\x1cm\\xd18\\xc3z\\xdexg\\xc2\\xf7\\xe0$\\xb2\\n1]N\\xd9\\xf7\\xfc3\"\\x95\\x18\\xe7\\x9cP\\xbf\\x02\\x01\\x02\\x03\\x81\\x84\\x00\\x02\\x81\\x80}\\xa30{\\x0e\\xa9kM\\xefq\\xdb[\\x96\\x10\\xcc*\\x0b]\\x8b\"\\xbe\\xf7C\\x8f\\x98\\xec\\xc4-\\xb4E=\\xe4%R\\xf4>\\x9d\\xc1\\xd7\\xd2\\x02+U\\xed\\x85\\\\\\xd92BdF\\x00J\\x91\\xee\\x8e\\xe5\\xea\\xda\\xfb\\xd8v\\xcb\\x9f!\\xfb5I\\xcf\\x05\"iy\\xbc\\xc4\\xa8w\\xda\\xd4\\xb5Y/\\x0e[\\x0f\\x1cT\\xe26\\xaam\\x16\\xd2B\\x9e\\xbc4xh\\xf3\\xa6\\xc3\\x1a\\xc7Rp\\x95\\xe4\\xe1\\xd9\\x92\\xda6\\xe2\\xea\\x17\\x12O\\x97\\xe0\\x9a]\\x87\\x8etz\\xa5\\x820\\x82\\x01\\x1f0\\x81\\x95\\x06\\t*\\x86H\\x86\\xf7\\r\\x01\\x03\\x010\\x81\\x87\\x02\\x81\\x81\\x00\\xaeU_\\xdaK\\xd3G\\xc4\\xfe/ \\x97\\xb7U>|\\xb0\\x18\\x033\\xa6\\xed\\x11\\xe8nk\\x12h\\xa61~s\\xf7\\xfb\\x03\\xe6o_\\x11\\xa5\\xb3\\x96\\x98\\xc5sUg\\xa8Z\\x89\\x84E\\xd0\\xce]\\xf4\\xaf\\x0e\\xa3\\xcc\\xe5\\x897\\x87J\\xcd\\xbb\\x1f*:fH+Z\\x1a.\\x1c\\xc3\\x97\\xa6\\t\\xc3\\xa7]\\xad\\x1eP\\r\\xb7R\\xa2E\\xaa\\xa2\\xa3oq\\x91_\\x1cm\\xd18\\xc3z\\xdexg\\xc2\\xf7\\xe0$\\xb2\\n1]N\\xd9\\xf7\\xfc3\"\\x95\\x18\\xe7\\x9cP\\xbf\\x02\\x01\\x02\\x03\\x81\\x84\\x00\\x02\\x81\\x80u\\xc3\\x0bA\\xe5\\xdd \\xd0s\\xc6]\\xab\\xed\\x02\\\\k\\xa6]\\x98I3\\xeb:\\xbd\\xe4\\xdd\\xfb\\t\\xc6\\xc8\\xc3\\xab\\xa7P\\x16%\\x05\\x9c\\xaf\\xa9\\x88\\x0bu\\x0cur\\x1b\\x16\\x7f9qC\\xc3\\xfaiq\\xe0\\xeb\\x1e\\xe1\\xe0x\\x94\\xa6\\x06_k\\xd7\\x84\\xd0\\'\\x8b=\\xddo\\xf7\\xb2x\\xacU\\x08\\xd5,y\\x11#\\x80{R.x\\xe1\\xae\\xb9Z;\\xa5\\xe0\\xa0\\x99\\xe1\\xd4\\xb53\\xa7\\xa0Z\\x06\\xaa\\xefU\\xd1A\\xd7\\nPSy\\x1a=T\\xde\\xbe\\x8b\\x90\\xc3\\xeet'\n",
            "Bob signs concatenated key: b'\\xb5\\xaf\\xa9\\xc3\\xcaM\\xecTE\\xcb\\xd8\\xc9\\x93j\\xf7w\\x02j\\xa3\\xad7\\xdb\\x01.\\x87\\x02$\\xad\\xb3\\xd6\\xc8\\x9f\\x1f\\xe3\\xe3\\xf2\\xf5C\\x04$x\\xe79\\x8b9\\xf5\\xe4\\xd2\\xf0\\xd4\\x82m\\xe8\\xb7\\x99?\\xf0\\xdf%\\x16T\\xf9\\\\\\xa1x],\\xb4\\xd5\\xfeq\\x8e\\x97\\xfb\\n\\x95\\xf84\\xa9 PY\\x10\\x91\\n\\xf0\\x04\\xff\\xbe6\\xc2\\xa2\\xdf\\x9145\\x8bw\\xc4\\xba\\xe0\\x15\\xa3i\\xf6\\xdc\\xc6\\xe0c\\xca\\xd3G\\xf2\\x15\\xd8 \\x85\\xfdb\\x8f\\xfa~\\xb7e\\x1ag\\xb1W\\xdfe\\xff\\xea5\\xc2\\x81l\\xe8G\\xfd\\x88\\n\\xb7\\xccobf8\\xdd\\x9f\\xa5I\\xeb\\xa6\\x86\\xd3\\xc1F\\x7f@\\x87t\\xb9\\xb8U\\x15\\x9c$\\xcdfD5z\\xe7\\xf4p\\xd0\\xa5T\\xbe\\xcdr\\xa49\\x15L\\\\_\\xc22g\\xe9\\x1e\\xd0<2Uj\\x13\\x1d\\xe2\\xdc\\xcf\\xe6\\x0f\\xf5\\x8e\\x07(\\x0f]\\xa6\\x8b^\\xe1\\xab\\x0f\\xa8v?\\xcb\\x0e\\x97\\xa6k\\\\\\xcct\\x16\\x13\\xae\\xc8|S\\xd0\\xa0\\xc2\\x83\\x1e\\xde?\\x19\\x8e\\xf5\\xf1n\\x8a\\x86\\xf6y\\xe1C*vP\\x81\\xd3'\n",
            "Bob encrypted concatenated keys: b'\\xd8\\xf4\\x83}\\xac>c\\x12e\\x9d\\xdb$.\\xack]\\x7f\\xabKqZW\\xd2\\xb0*\\x7f0\\x9d \\r\\xdc\\x89\\xe1\\x0f\\x95\\x92>\\xe1\\xe7\\xec\\x0c\\xf6\\xdah\\xff\\xda\\xb5\\xf6\\xd5\\xd3\\x8f\\xb5\\xe8\\xc8\\x05\\xfe\\xb9\\x1f\\xa8\\xad\\n\\xfc\\x0f\\xbf9\\xbaXC\\xd3>3Ak\\x16\\x81\\xe9H\\xe9\\x87(\\xdc-I\\xda\\x93\\x07\\xc0z.\\x86R\\xec09\\xf4-\\xf4\\xd2j\\xd0F\\xcc\\xeb\\x0fm\\x13\\xe7\\x0e*\\x94\\x10-\\x90\\xa3\\xb6\\xd4d\\xbe#\\x91\\x90\\x1aQ\\x97 \\x13{{:B\\x9a\\xd8\\x19\\xe7\\xdav]\\x97c3\\xfaeyqq\\xb7\\xc8\\xf3\\x8ci\\xc2\\x12}@M\\x0f\\x08\\x08\\x96$D\\x1bl&\\xea\\xec0\\x8d6\\xdc\\xcc;Ma\\xdf\\xe8p\\x83\\xaaX|y\\xa8h\\xa26\\n\\xa1\\x17\\x129\\x0ct\\xc4\\xf0\\xff\\x93\\xfa\\xf3c\\x1bF\\xc4d\\xcc\\x84\\x7f\\xbdY\\x86\\xe7#\\xd4\\xb9\\x8cZ\\xf9\\xc3{\\xd4\\xc3\\xd1\\xf1\\xd4\\x9bgN\\x80\\xedc+\\x9f%\\x06\\xbe\\xb1\\x85\\xe2\\x97\\x93B\\xe3\\xde\\x97\\x9c+\\xc9\\xe9J\\xb3\\xf6\\x12\\xc5\\x95GX\\xc3\"\\xd9\\xednA\\x8d\\r\\rU\\xaf\\xb4\\xaf*\\xf1\\xf7}\\xeb\\x96\\xd763\\xc9\\x10\\xc9^\\xda\\x16\\xb5\\x8a\\x94\\xb6'\n"
          ]
        }
      ]
    },
    {
      "cell_type": "markdown",
      "source": [
        "### Alice verifies Bob"
      ],
      "metadata": {
        "id": "5ylkqjr_RHYe"
      }
    },
    {
      "cell_type": "code",
      "source": [
        "# Alice receives a^y, computes k_xy, decrypts, D_k_xy, and verifies cert_b\n",
        "# Sends cert_a, E_k_xy(sign(a^x, a^y))\n",
        "\n",
        "def alice_receives(alice_public_key, bob_public_key, encrypted_signed_public_keys, bob_message, name='bob'):\n",
        "  # Alice derives shared key\n",
        "  alice_shared_key = alice_private_key.exchange(bob_public_key)\n",
        "  alice_derived_key = derived_key(alice_shared_key)\n",
        "  print(f'Alice shared ephemeral key: {alice_derived_key}')\n",
        "\n",
        "  # Decrypts the signed encrypted signed message\n",
        "  aes = AES(alice_derived_key)\n",
        "  decrypted_data = aes.aes_decrypt(encrypted_signed_public_keys)\n",
        "\n",
        "  print(f'Decrypted signed message: {decrypted_data}')\n",
        "\n",
        "  # Retrieves bobs public key\n",
        "  with open(f\"{name.lower()}_certificate.pem\", \"rb\") as cert_file:\n",
        "    cert_data = cert_file.read()\n",
        "\n",
        "  # Parse the certificate\n",
        "  bob_certificate = x509.load_pem_x509_certificate(cert_data)\n",
        "\n",
        "  # Extract the bob public key from certificate\n",
        "  extracted_bob_public_long_key = bob_certificate.public_key()\n",
        "\n",
        "  # Verifies decrypted signed message\n",
        "  verification = verify(extracted_bob_public_long_key, decrypted_data, bob_message)\n",
        "  cert_file.close()\n",
        "\n",
        "\n",
        "  try:\n",
        "    print('Verification was successful')\n",
        "    print('Alice verifies Bob!\\n\\n\\n')\n",
        "\n",
        "  except:\n",
        "    print(verification)\n",
        "\n",
        "  # Alice then\n",
        "  # Generates long-term keys\n",
        "  alice_pub = generate_keys('alice')  ## Long-lasting key\n",
        "  print(f'Alice_pub: {alice_pub}')\n",
        "\n",
        "  # Bob signs both public keys\n",
        "  alice_message = public_key_to_bytes(alice_public_key) + public_key_to_bytes(bob_public_key)\n",
        "  print(f'Alice_message: {alice_message}')\n",
        "\n",
        "  signature = sign_public_keys('alice', alice_message)\n",
        "  print(f'Alice signs concatenated key: {signature}')\n",
        "\n",
        "  # Encrypt signed\n",
        "  aes = AES(alice_derived_key)\n",
        "  alice_encrypted_signed_public_keys = aes.aes_encrypt(signature)\n",
        "  print(f'Alice encrypted concatenated keys: {alice_encrypted_signed_public_keys}')\n",
        "\n",
        "  # Generate self-signed certificate\n",
        "  cert = certificate('alice', alice_pub)\n",
        "\n",
        "  data = {\n",
        "      \"alice_public_key\": alice_public_key,\n",
        "      \"encrypted_parameters\": alice_encrypted_signed_public_keys,\n",
        "      \"alice_public_long_key\": alice_pub,\n",
        "      \"alice_message\": alice_message,\n",
        "  }\n",
        "\n",
        "  return data"
      ],
      "metadata": {
        "id": "jGCQCUuk09EB"
      },
      "execution_count": null,
      "outputs": []
    },
    {
      "cell_type": "code",
      "source": [
        "alice_sends = alice_receives(alice_public_key, bob_public_key, encrypted_parameters, bob_message)\n",
        "\n",
        "alice_encrypted_signed_public_keys = alice_sends[\"encrypted_parameters\"]\n",
        "alice_message = alice_sends[\"alice_message\"]"
      ],
      "metadata": {
        "colab": {
          "base_uri": "https://localhost:8080/"
        },
        "id": "oBRsPi36drEE",
        "outputId": "2df63a08-a666-4286-dfc2-abfbabfd59c5"
      },
      "execution_count": null,
      "outputs": [
        {
          "output_type": "stream",
          "name": "stdout",
          "text": [
            "Alice shared ephemeral key: b'~\\xb5S\\x19\\xe2P H%\\x80\\x1e;8\\xb1,^\\x91]\\xd4\\x164\\xe5Ix\\x9f\\xd0\\xfc\\x8b/\\x95L\\x12'\n",
            "Decrypted signed message: b'\\xb5\\xaf\\xa9\\xc3\\xcaM\\xecTE\\xcb\\xd8\\xc9\\x93j\\xf7w\\x02j\\xa3\\xad7\\xdb\\x01.\\x87\\x02$\\xad\\xb3\\xd6\\xc8\\x9f\\x1f\\xe3\\xe3\\xf2\\xf5C\\x04$x\\xe79\\x8b9\\xf5\\xe4\\xd2\\xf0\\xd4\\x82m\\xe8\\xb7\\x99?\\xf0\\xdf%\\x16T\\xf9\\\\\\xa1x],\\xb4\\xd5\\xfeq\\x8e\\x97\\xfb\\n\\x95\\xf84\\xa9 PY\\x10\\x91\\n\\xf0\\x04\\xff\\xbe6\\xc2\\xa2\\xdf\\x9145\\x8bw\\xc4\\xba\\xe0\\x15\\xa3i\\xf6\\xdc\\xc6\\xe0c\\xca\\xd3G\\xf2\\x15\\xd8 \\x85\\xfdb\\x8f\\xfa~\\xb7e\\x1ag\\xb1W\\xdfe\\xff\\xea5\\xc2\\x81l\\xe8G\\xfd\\x88\\n\\xb7\\xccobf8\\xdd\\x9f\\xa5I\\xeb\\xa6\\x86\\xd3\\xc1F\\x7f@\\x87t\\xb9\\xb8U\\x15\\x9c$\\xcdfD5z\\xe7\\xf4p\\xd0\\xa5T\\xbe\\xcdr\\xa49\\x15L\\\\_\\xc22g\\xe9\\x1e\\xd0<2Uj\\x13\\x1d\\xe2\\xdc\\xcf\\xe6\\x0f\\xf5\\x8e\\x07(\\x0f]\\xa6\\x8b^\\xe1\\xab\\x0f\\xa8v?\\xcb\\x0e\\x97\\xa6k\\\\\\xcct\\x16\\x13\\xae\\xc8|S\\xd0\\xa0\\xc2\\x83\\x1e\\xde?\\x19\\x8e\\xf5\\xf1n\\x8a\\x86\\xf6y\\xe1C*vP\\x81\\xd3'\n",
            "Verification was successful\n",
            "Alice verifies Bob!\n",
            "\n",
            "\n",
            "\n",
            "Alice_pub: <cryptography.hazmat.bindings._rust.openssl.rsa.RSAPublicKey object at 0x7f861f71b270>\n",
            "Alice_message: b'0\\x82\\x01\\x1f0\\x81\\x95\\x06\\t*\\x86H\\x86\\xf7\\r\\x01\\x03\\x010\\x81\\x87\\x02\\x81\\x81\\x00\\xaeU_\\xdaK\\xd3G\\xc4\\xfe/ \\x97\\xb7U>|\\xb0\\x18\\x033\\xa6\\xed\\x11\\xe8nk\\x12h\\xa61~s\\xf7\\xfb\\x03\\xe6o_\\x11\\xa5\\xb3\\x96\\x98\\xc5sUg\\xa8Z\\x89\\x84E\\xd0\\xce]\\xf4\\xaf\\x0e\\xa3\\xcc\\xe5\\x897\\x87J\\xcd\\xbb\\x1f*:fH+Z\\x1a.\\x1c\\xc3\\x97\\xa6\\t\\xc3\\xa7]\\xad\\x1eP\\r\\xb7R\\xa2E\\xaa\\xa2\\xa3oq\\x91_\\x1cm\\xd18\\xc3z\\xdexg\\xc2\\xf7\\xe0$\\xb2\\n1]N\\xd9\\xf7\\xfc3\"\\x95\\x18\\xe7\\x9cP\\xbf\\x02\\x01\\x02\\x03\\x81\\x84\\x00\\x02\\x81\\x80u\\xc3\\x0bA\\xe5\\xdd \\xd0s\\xc6]\\xab\\xed\\x02\\\\k\\xa6]\\x98I3\\xeb:\\xbd\\xe4\\xdd\\xfb\\t\\xc6\\xc8\\xc3\\xab\\xa7P\\x16%\\x05\\x9c\\xaf\\xa9\\x88\\x0bu\\x0cur\\x1b\\x16\\x7f9qC\\xc3\\xfaiq\\xe0\\xeb\\x1e\\xe1\\xe0x\\x94\\xa6\\x06_k\\xd7\\x84\\xd0\\'\\x8b=\\xddo\\xf7\\xb2x\\xacU\\x08\\xd5,y\\x11#\\x80{R.x\\xe1\\xae\\xb9Z;\\xa5\\xe0\\xa0\\x99\\xe1\\xd4\\xb53\\xa7\\xa0Z\\x06\\xaa\\xefU\\xd1A\\xd7\\nPSy\\x1a=T\\xde\\xbe\\x8b\\x90\\xc3\\xeet0\\x82\\x01\\x1f0\\x81\\x95\\x06\\t*\\x86H\\x86\\xf7\\r\\x01\\x03\\x010\\x81\\x87\\x02\\x81\\x81\\x00\\xaeU_\\xdaK\\xd3G\\xc4\\xfe/ \\x97\\xb7U>|\\xb0\\x18\\x033\\xa6\\xed\\x11\\xe8nk\\x12h\\xa61~s\\xf7\\xfb\\x03\\xe6o_\\x11\\xa5\\xb3\\x96\\x98\\xc5sUg\\xa8Z\\x89\\x84E\\xd0\\xce]\\xf4\\xaf\\x0e\\xa3\\xcc\\xe5\\x897\\x87J\\xcd\\xbb\\x1f*:fH+Z\\x1a.\\x1c\\xc3\\x97\\xa6\\t\\xc3\\xa7]\\xad\\x1eP\\r\\xb7R\\xa2E\\xaa\\xa2\\xa3oq\\x91_\\x1cm\\xd18\\xc3z\\xdexg\\xc2\\xf7\\xe0$\\xb2\\n1]N\\xd9\\xf7\\xfc3\"\\x95\\x18\\xe7\\x9cP\\xbf\\x02\\x01\\x02\\x03\\x81\\x84\\x00\\x02\\x81\\x80}\\xa30{\\x0e\\xa9kM\\xefq\\xdb[\\x96\\x10\\xcc*\\x0b]\\x8b\"\\xbe\\xf7C\\x8f\\x98\\xec\\xc4-\\xb4E=\\xe4%R\\xf4>\\x9d\\xc1\\xd7\\xd2\\x02+U\\xed\\x85\\\\\\xd92BdF\\x00J\\x91\\xee\\x8e\\xe5\\xea\\xda\\xfb\\xd8v\\xcb\\x9f!\\xfb5I\\xcf\\x05\"iy\\xbc\\xc4\\xa8w\\xda\\xd4\\xb5Y/\\x0e[\\x0f\\x1cT\\xe26\\xaam\\x16\\xd2B\\x9e\\xbc4xh\\xf3\\xa6\\xc3\\x1a\\xc7Rp\\x95\\xe4\\xe1\\xd9\\x92\\xda6\\xe2\\xea\\x17\\x12O\\x97\\xe0\\x9a]\\x87\\x8etz\\xa5\\x82'\n",
            "Alice signs concatenated key: b'mO\\x11\\xe7\\xa3\\xd5\\x97`\\xd7\\xfd\\xca0~G\\x0f\\xf52\\xa0\\xcd>Z\\x93\\xf6\\xffg\\xaf7)9\\xafy4\\x01T\\xfd\\x08\\xeb\\x0b,\\xdd\\xa3m\\xfc\\xb9\\xa1\\x7f\\x04V\\xfe\\x19\\xfd\\x97.\\x94\\xa8\\x02\\xb5\\x06\\x0c\\xb28:\\xa5\\x0c\\x9a\\xf9a\\xa1m\\xd7\\x88_\\x08\\xe8\\xbe|\\xe1\\x7f\\x97\\xeb\\xc2n\\x11\\xc6\\xed\\xe2\\xc9\\xff\\t&j\\xeb\\x01y\\x13\"\\xe5\\xf8\\xd2\\x93\\xdeF\\xdf\\xe8\\xe3\\xadS\\x04\\xa5\\x90e\\x94\\x06\\xb3]\\x88%\\\\Q\\x91\\x80\\xc5\\x111\\x07%\\xc7\\xaff,8\\xfd\\xa1\\xeaW\\x9bj;\\x013\\x89G-1\\x8c}\\x18@\\xff\\x95\\xa6\\x11\\x9c;\\x14\\xfbZ\\x14*\\xc8}V\\xbbGHfg=\\xec\\xfa+\\xb8\\\\oj\\x1d\\xed\\x0b\\xect\\xf7\\xa8%\\r\\xde)\\xde\\x1fs\\\\c\\r\\x98|\\xf0\\xa5D\\xfd=\\x0c\\x12\\x02\\xde\\x19\\xfc\\x9c\\x04\\x83\\xe8\\xf5?\\xe8\\xe3\\x97\\xdd\\x1e\\xa2\\xaf\\xae\\x9f\\'o\\t\\x86\\x08j\\xeb\\xb8\\x07Z\\xec\\t_T3\\xc0\\x8d\\x932\\x16\\x8eE\\xa3\\neE\\x85Ig\\xcc\\xfe\\x9e\\x9eB\\xdfe'\n",
            "Alice encrypted concatenated keys: b'\\x82\\x9e\\x82\\xb7\\x0bto\\x14\\xac\\xef\\x95\\xdaS)\\xa4\\xee\\xe9\\xf1JX\\rD\\x19\\xed\\x11M\\xeebU\\x98\\x99@\\x00{\\xda\\x8dGs\\xcc\\x8e\\xe6h\\\\A;Ep,B\\xb8\\x08Q\\x98\\xb70\\xbf\\xfb\\xa2\\x11\\x8f0G\\xef`\\xcb\\x02\\x8a\\xfcB\\xa9\\x0c4T\\x08\\xc3G\\xd7\\xe6\\x94=*94W\\x89p\\xd1\\xe9\\xe4K\\xab\\xb3`-\\x1b\\x17\\xee\\x9e\\x04o+\\x12\\x88\\xdc\\x19\\x8e\\x02\\x86F\\x9a\\xb1qx,?T\\xb9\\xf5[dZ\\x19O\\x85\\x07\\xfb\\xdeu\\xa22;\\xa9\\xa6\\x1e\\xb4\\x876\\xd3\\xcb\\x88\\xa5\\x8a\\xa8\\xb5\"\\xb5(\\x81\\xe2\\xba\\xc2w\\xa1N\\x168\\xcc+\\x92\\x13>}\\xe4\\xb3\\xeb\\x84\\xe8\\x99wY \\xf9\\xe2|r\\xf4\\xb9\\x17<SLy5!\\xa2\\xc2?\\xeb\\xd6\\xb8m\\x1a\\xab\\xb7\\xf6m\\x80\\'\\xdf\\xc1\\xe6\\xdc-h\\xb6\\xdc)\\xc2\\xd4\\x99$\\x9dt \\xa4\\xea\\xb5:\\x83\\xc9\\xb8\\xb0\\xb3\\x8c\\xc4\\xe9r?\\xee\\x1a \\xed\\x99\\x89m\\xfe\\x1a\\x19R\\xbc\\x8ef\\xdb\\x10g6)LU\\xfc\\xf1\\xaf\\xc8\\xbc@\\x10\\x17\\xed\\xb7\\xf1T\\xc9\\x93.\\xac\\x0c\\xb0~;\\xe0\\xd5f\\xc1\\x16@\\xe8\\x87_6IAo.\\xac\\x90\\xdc\\xf7\\xd2'\n"
          ]
        }
      ]
    },
    {
      "cell_type": "markdown",
      "source": [
        "### Bob verifies Alice"
      ],
      "metadata": {
        "id": "y0LgdrPYRK4K"
      }
    },
    {
      "cell_type": "code",
      "source": [
        "# Bob computes k_yx, sends (a^y, cert_b, E_k_yx(sign(a^y, a^x)))\n",
        "\n",
        "def bob_verifies(bob_derived_key, alice_encrypted_signed_public_keys, alice_message, name='alice'):\n",
        "  # Decrypts the signed encrypted signed message\n",
        "  aes = AES(bob_derived_key)\n",
        "  decrypted_data = aes.aes_decrypt(alice_encrypted_signed_public_keys)\n",
        "\n",
        "  print(f'Decrypted signed message: {decrypted_data}')\n",
        "\n",
        "  # Retrieves alice public key\n",
        "  with open(f\"{name.lower()}_certificate.pem\", \"rb\") as cert_file:\n",
        "    cert_data = cert_file.read()\n",
        "\n",
        "  # Parse the certificate\n",
        "  alice_certificate = x509.load_pem_x509_certificate(cert_data)\n",
        "\n",
        "  # Extract the bob public key from certificate\n",
        "  extracted_alice_public_long_key = alice_certificate.public_key()\n",
        "\n",
        "  # Verifies decrypted signed message\n",
        "  verification = verify(extracted_alice_public_long_key, decrypted_data, alice_message)\n",
        "  cert_file.close()\n",
        "\n",
        "  try:\n",
        "    print('Verification was successful')\n",
        "    print('Bob verifies Alice!\\n\\n\\n')\n",
        "\n",
        "    print('-----------CONNECTION ESTABLISHED--------')\n",
        "\n",
        "  except:\n",
        "    print(verification)\n",
        "\n",
        "  return"
      ],
      "metadata": {
        "id": "SuJrARVEROyR"
      },
      "execution_count": null,
      "outputs": []
    },
    {
      "cell_type": "code",
      "source": [
        "bob_verifies(bob_derived_key, alice_encrypted_signed_public_keys, alice_message)"
      ],
      "metadata": {
        "colab": {
          "base_uri": "https://localhost:8080/"
        },
        "id": "c-wvFJ4HkETb",
        "outputId": "eeca976f-8bd0-41da-b429-737c13ec28eb"
      },
      "execution_count": null,
      "outputs": [
        {
          "output_type": "stream",
          "name": "stdout",
          "text": [
            "Decrypted signed message: b'.bI\\xdcF\\xeb\\xfb;;\\x07f\\x89\\x92\\xd6\\x93\\xc72<\\x10c\\xf6\\x9eS\\x8c\\xfc\\x7f\\xb91\\xa3\\x87U\\xc5\\x9dC5c\\xde\\x90X\\xd0*J\\xe4H\\xb4\\xc8/\\xaf:E\\x94e2d\\x11\\xea|Db\\xef\\xa9y\\xd6\\xe4\\x89Y\\xfb\\x8cz\\xf4,[\\x85]\\xcfK\\xd2\\xb3/\\xa5\\xf4\\xf0}X\\x9d\\x8c\\xbaO\\xf8jK\\x19\\x0ec\\xbbC^\\x0bkO-\\x1a\\x8aK/\\\\\\x1c\\x8b\\xe3\\x04p\\x9e\\xfaM\\xd4\\xe4\\x88\\x84{Y\\xe6AK\\x1e\\xeb\\xfaP\\x8c\\xf0]\\'e\\xda\\xfd\\x89t\\xf6\\xc6\\xb1m1\\x15z\\x95\\xde$\\xeb@\\xfe\\x11:\\x9d\\xfa`\\x0b\\x8e\\xaeW\\x15\\x9a\\x15\\xafv\\x0e6\\x1e\\xdc\\xa4\\xeer#\\xca\\x8d6\\x00M\\x08\\x13N\\xdfDg\\xc2\\x06\\x8f\\x03`8S-{/\\xe0\\x15?\\xcf%=\\xc2D\\x13\\xfc)\\x88u\\x86\\xc7\\xbb\\xd9\\xbf\\x88b}\\x859\\x90\"\\xb8\\xbf\\xad\\x82}\\xbay8\\xf2\\xbf\\x1a\\x80P\\x16CA\\xa6H\\x1a\\x07\\xe9\\xc4\\xab\\xf8!\\x18\\x1cpI\\x89\\xef\\x9d\\xccJ\\x87\\x1d\\xfeA-'\n",
            "Verification was successful\n",
            "Bob verifies Alice!\n",
            "\n",
            "\n",
            "\n",
            "-----------CONNECTION ESTABLISHED--------\n"
          ]
        }
      ]
    }
  ]
}